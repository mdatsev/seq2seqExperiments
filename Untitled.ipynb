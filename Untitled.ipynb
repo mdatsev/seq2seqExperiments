{
 "cells": [
  {
   "cell_type": "code",
   "execution_count": 2,
   "metadata": {},
   "outputs": [
    {
     "name": "stdout",
     "output_type": "stream",
     "text": [
      "6\n"
     ]
    }
   ],
   "source": [
    "import os\n",
    "\n",
    "list = os.listdir(\"./bbc\") # dir is your directory path\n",
    "number_files = len(list)\n",
    "print (number_files)"
   ]
  },
  {
   "cell_type": "code",
   "execution_count": 54,
   "metadata": {},
   "outputs": [],
   "source": [
    "import pickle"
   ]
  },
  {
   "cell_type": "code",
   "execution_count": 42,
   "metadata": {},
   "outputs": [],
   "source": [
    "directories = [\"business\", \"entertainment\", \"politics\", \"sport\", \"tech\"]\n",
    "heads = []\n",
    "desc = []\n",
    "for i in range(1):\n",
    "    for root, dirs, files in os.walk(\"./bbc/\" + directories[i]): \n",
    "         for filename in files:\n",
    "            with open(\"./bbc/\" + directories[i] +\"/\"+ filename) as f:\n",
    "                first_line = f.readline().replace(\"\\\\\" , '')\n",
    "                heads.append(first_line.replace('\\n', ''))\n",
    "                next_lines = f.readlines()\n",
    "                desc.append(\"\".join(next_lines).replace('\\n', ''))"
   ]
  },
  {
   "cell_type": "code",
   "execution_count": 43,
   "metadata": {},
   "outputs": [],
   "source": [
    "data = []\n",
    "data.append(heads)\n",
    "data.append(desc)"
   ]
  },
  {
   "cell_type": "code",
   "execution_count": 52,
   "metadata": {},
   "outputs": [
    {
     "name": "stdout",
     "output_type": "stream",
     "text": [
      "The dollar has hit its highest level against the euro in almost three months after the Federal Reserve head said the US trade deficit is set to stabilise.And Alan Greenspan highlighted the US government's willingness to curb spending and rising household savings as factors which may help to reduce it. In late trading in New York, the dollar reached $1.2871 against the euro, from $1.2974 on Thursday. Market concerns about the deficit has hit the greenback in recent months. On Friday, Federal Reserve chairman Mr Greenspan's speech in London ahead of the meeting of G7 finance ministers sent the dollar higher after it had earlier tumbled on the back of worse-than-expected US jobs data. \"I think the chairman's taking a much more sanguine view on the current account deficit than he's taken for some time,\" said Robert Sinche, head of currency strategy at Bank of America in New York. \"He's taking a longer-term view, laying out a set of conditions under which the current account deficit can improve this year and next.\"Worries about the deficit concerns about China do, however, remain. China's currency remains pegged to the dollar and the US currency's sharp falls in recent months have therefore made Chinese export prices highly competitive. But calls for a shift in Beijing's policy have fallen on deaf ears, despite recent comments in a major Chinese newspaper that the \"time is ripe\" for a loosening of the peg. The G7 meeting is thought unlikely to produce any meaningful movement in Chinese policy. In the meantime, the US Federal Reserve's decision on 2 February to boost interest rates by a quarter of a point - the sixth such move in as many months - has opened up a differential with European rates. The half-point window, some believe, could be enough to keep US assets looking more attractive, and could help prop up the dollar. The recent falls have partly been the result of big budget deficits, as well as the US's yawning current account gap, both of which need to be funded by the buying of US bonds and assets by foreign firms and governments. The White House will announce its budget on Monday, and many commentators believe the deficit will remain at close to half a trillion dollars.\n"
     ]
    }
   ],
   "source": [
    " print(data[1][1])"
   ]
  },
  {
   "cell_type": "code",
   "execution_count": 56,
   "metadata": {},
   "outputs": [],
   "source": [
    "pickle.dump( data, open( \"./data.p\", \"wb\" ) )"
   ]
  },
  {
   "cell_type": "code",
   "execution_count": 57,
   "metadata": {},
   "outputs": [],
   "source": [
    "with open('./data.p', 'rb') as fp:\n",
    "    loaded_heads, loeaded_desc = pickle.load(fp)"
   ]
  },
  {
   "cell_type": "code",
   "execution_count": 58,
   "metadata": {},
   "outputs": [
    {
     "name": "stdout",
     "output_type": "stream",
     "text": [
      "['Ad sales boost Time Warner profit', 'Dollar gains on Greenspan speech', 'Yukos unit buyer faces loan claim', \"High fuel prices hit BA's profits\", 'Pernod takeover talk lifts Domecq', 'Japan narrowly escapes recession', 'Jobs growth still slow in the US', 'India calls for fair trade rules', \"Ethiopia's crop production up 24%\", 'Court rejects $280bn tobacco case', 'Ask Jeeves tips online ad revival', 'Indonesians face fuel price rise', 'Peugeot deal boosts Mitsubishi', 'Telegraph newspapers axe 90 jobs', 'Air passengers win new EU rights', 'China keeps tight rein on credit', 'Parmalat boasts doubled profits', \"India's rupee hits five-year high\", 'India widens access to telecoms', \"Call centre users 'lose patience'\", \"Rank 'set to sell off film unit'\", 'Sluggish economy hits German jobs', 'Mixed signals from French economy', 'US trade gap hits record in 2004', 'Yukos loses US bankruptcy battle', 'Safety alert as GM recalls cars', \"Steel firm 'to cut' 45,000 jobs\", 'Strong demand triggers oil rally', 'UK firm faces Venezuelan land row', \"Soaring oil 'hits world economy'\", 'Irish markets reach all-time high', 'Japanese banking battle at an end', 'Rich grab half Colombia poor fund', \"Rover deal 'may cost 2,000 jobs'\", \"Ad firm WPP's profits surge 15%\", 'US gives foreign firms extra time', 'Japanese mogul arrested for fraud', 'Deutsche Telekom sees mobile gain', \"Chinese wine tempts Italy's Illva\", 'Umbro profits lifted by Euro 2004', 'Fed chief warning on US deficit', 'UK Coal plunges into deeper loss', 'Saudi ministry to employ women', 'Japan economy slides to recession', 'US crude prices surge above $53', 'Industrial output falls in Japan', 'Ryanair in $4bn Boeing plane deal', 'Parmalat to return to stockmarket', 'BMW cash to fuel Mini production', 'Bad weather hits Nestle sales', 'Fiat mulls Ferrari market listing', 'Italy to get economic action plan', 'Weak dollar hits Reuters', 'Hyundai to build new India plant', \"SA unveils 'more for all' budget\", 'BMW drives record sales in Asia', \"Economy 'stronger than forecast'\", 'Electrolux to export Europe jobs', 'Worldcom ex-boss launches defence', 'Insurance bosses plead guilty', 'Further rise in UK jobless total', \"Wembley firm won't make a profit\", 'Cars pull down US retail figures', 'Lufthansa may sue over Bush visit', 'EU aiming to fuel development aid', 'German business confidence slides', 'FAO warns on impact of subsidies', 'India seeks to boost construction', 'Boeing unveils new 777 aircraft', 'Circuit City gets takeover offer', 'Japan turns to beer alternatives', 'S Korean consumers spending again', 'German growth goes into reverse', \"Turkey-Iran mobile deal 'at risk'\", 'EU ministers to mull jet fuel tax', 'Palestinian economy in decline', 'China had role in Yukos split-up', 'Deadline nears for Fiat-GM deal', 'ID theft surge hits US consumers', 'Argentina, Venezuela in oil deal', 'BMW to recall faulty diesel cars', 'Takeover rumour lifts Exel shares', 'Yukos accused of lying to court', 'Mexican in US send $16bn home', 'Home loan approvals rising again', \"Manufacturing recovery 'slowing'\", \"Worldcom boss 'left books alone'\", 'Metlife buys up Citigroup insurer', 'Europe blames US over weak dollar', 'French wine gets 70m euro top-up', 'Russia gets investment blessing', 'Iranian MPs threaten mobile deal', 'Argentina closes $102.6bn debt swap', 'US economy shows solid GDP growth', \"Profits slide at India's Dr Reddy\", 'Burren awarded Egyptian contracts', \"'Strong dollar' call halts slide\", \"IMF 'cuts' German growth estimate\", 'GM, Ford cut output as sales fall', 'Ebbers denies WorldCom fraud', 'Australia rates at four year high', 'US company admits Benin bribery', 'US insurer Marsh cuts 2,500 jobs', 'US seeks new $280bn smoker ruling', 'Budget Aston takes on Porsche', \"Golden rule 'intact' says ex-aide\", 'Liberian economy starts to grow', 'Slowdown hits US factory growth', 'Lufthansa flies back to profit', 'Japanese growth grinds to a halt', 'Unilever shake up as profit slips', 'France Telecom gets Orange boost', 'Brussels raps mobile call charges', 'WorldCom director admits lying', 'Glaxo aims high after profit fall', 'Japan bank shares up on link talk', 'Car giant hit by Mercedes slump', 'Ericsson sees earnings improve', 'Bank opts to leave rates on hold', 'Nigeria to boost cocoa production', 'US interest rates increased to 2%', 'US bank in $515m SEC settlement', 'Train strike grips Buenos Aires', 'Bargain calls widen Softbank loss', 'WMC profits up amid bid criticism', 'Barclays profits hit record level', 'Yukos owner sues Russia for $28bn', 'Qantas sees profits fly to record', 'Iraq to invite phone licence bids', 'Aviation firms eye booming India', 'Russian oil merger excludes Yukos', \"Brazil buy boosts Belgium's Inbev\", 'Salary scandal in Cameroon', 'US adds more jobs than expected', 'Feta cheese battle reaches court', 'Ukraine revisits state sell-offs', 'Bank set to leave rates on hold', 'Winter freeze keeps oil above $50', 'German jobless rate at new record', 'Ore costs hit global steel firms', 'BMW reveals new models pipeline', \"Asian banks halt dollar's slide\", 'Weak dollar trims Cadbury profits', 'Oil prices fall back from highs', 'Winn-Dixie files for bankruptcy', 'Why few targets are better than many', 'Malaysia lifts Islamic bank limit', \"Alfa Romeos 'to get GM engines'\", 'Saab to build Cadillacs in Sweden', 'Shares hit by MS drug suspension', 'Bank voted 8-1 for no rate change', 'Crude oil prices back above $50', 'House prices show slight increase', 'Golden rule boost for Chancellor', \"Macy's owner buys rival for $11bn\", 'Industrial revival hope for Japan', 'Khodorkovsky ally denies charges', 'Qatar and Shell in $6bn gas deal', 'India unveils anti-poverty budget', 'GM pays $2bn to evade Fiat buyout', 'Ex-Boeing director gets jail term', \"Verizon 'seals takeover of MCI'\", 'US data sparks inflation worries', 'Yukos sues four firms for $20bn', 'Consumer spending lifts US growth', \"Crossrail link 'to get go-ahead'\", 'Hariri killing hits Beirut shares', \"Small firms 'hit by rising costs'\", \"Buyers snap up Jet Airways' shares\", 'House prices suffer festive fall', 'Deutsche Boerse boosts dividend', 'Newest EU members underpin growth', \"Brewers' profits lose their fizz\", \"Yangtze Electric's profits double\", 'French consumer spending rising', 'GSK aims to stop Aids profiteers', 'Optimism remains over UK housing', \"Russia WTO talks 'make progress'\", 'Irish duo could block Man Utd bid', 'Dollar drops on reserves concerns', 'India and Russia in energy talks', 'Weak data buffets French economy', 'Business fears over sluggish EU economy', 'M&S cuts prices by average of 24%', \"US bank 'loses' customer details\", 'Huge rush for Jet Airways shares', 'Bank payout to Pinochet victims', 'Qwest may spark MCI bidding war', 'Fiat chief takes steering wheel', 'Consumers drive French economy', 'US regulator to rule on pain drug', \"Yukos bankruptcy 'not US matter'\", 'Borussia Dortmund near bust', \"'Post-Christmas lull' in lending\", \"UK 'risks breaking golden rule'\", 'Worldcom director ends evidence', \"Ukraine steel sell-off 'illegal'\", 'Cairn shares up on new oil find', 'Georgia plans hidden asset pardon', 'Cuba winds back economic clock', 'Novartis hits acquisition trail', 'MCI shareholder sues to stop bid', \"'Standoff' on Deutsche's LSE bid\", \"Bush to outline 'toughest' budget\", 'Orange colour clash set for court', 'Standard Life cuts policy bonuses', 'EMI shares hit by profit warning', \"China's Shanda buys stake in Sina\", 'Mixed reaction to Man Utd offer', 'Gold falls on IMF sale concerns', 'Electronics firms eye plasma deal', \"MG Rover China tie-up 'delayed'\", \"US bank boss hails 'genius' Smith\", \"Economy 'strong' in election year\", 'SEC to rethink post-Enron rules', 'Nissan names successor to Ghosn', 'Ukraine trims privatisation check', 'Absa and Barclays talks continue', 'Rescue hope for Borussia Dortmund', 'Standard Life concern at LSE bid', 'BP surges ahead on high oil price', 'Oil companies get Russian setback', 'Gaming firm to sell UK dog tracks', 'Man Utd to open books to Glazer', \"Sales 'fail to boost High Street'\", \"McDonald's to sponsor MTV show\", 'Call to save manufacturing jobs', \"Tsunami 'to hit Sri Lanka banks'\", 'Shares rise on new Man Utd offer', 'Yukos drops banks from court bid', 'Venezuela reviews foreign deals', \"Lloyd's of London head chides FSA\", 'Bat spit drug firm goes to market', 'Vodafone appoints new Japan boss', 'Pension hitch for long-living men', \"Card fraudsters 'targeting web'\", \"Britannia members' ВЈ42m windfall\", 'Firms pump billions into pensions', 'UK homes hit ВЈ3.3 trillion total', \"Economy 'strong' in election year\", 'G7 backs Africa debt relief plan', 'Q&A: Malcolm Glazer and Man Utd', 'Making your office work for you', 'Market unfazed by Aurora setback', \"The 'ticking budget' facing the US\", \"Ebbers 'aware' of WorldCom fraud\", \"Renault boss hails 'great year'\", 'Survey confirms property slowdown', 'Bush budget seeks deep cutbacks', \"Profits stall at China's Lenovo\", 'MCI shares climb on takeover bid', 'BT offers equal access to rivals', 'Jobs growth still slow in the US', 'News Corp eyes video games market', 'Call to overhaul UK state pension', 'Singapore growth at 8.1% in 2004', 'Turkey knocks six zeros off lira', 'S Korea spending boost to economy', 'Latin America sees strong growth', 'Asia shares defy post-quake gloom', 'Booming markets shed few tears', 'Asian quake hits European shares', 'Split-caps pay ВЈ194m compensation', 'French suitor holds LSE meeting', 'Troubled Marsh under SEC scrutiny', 'Could Yukos be a blessing in disguise?', 'Nasdaq planning $100m share sale', 'Giving financial gifts to children', 'Air China in $1bn London listing', 'Oil prices reach three-month low', \"Arsenal 'may seek full share listing'\", 'Markets signal Brazilian recovery', 'Markets fall on weak dollar fears', 'Google shares fall as staff sell', 'Five million Germans out of work', 'India power shares jump on debut', 'Turkey turns on the economic charm', 'SBC plans post-takeover job cuts', 'German bidder in talks with LSE', 'Amex shares up on spin-off news', 'Axa Sun Life cuts bonus payments', \"Chinese dam firm 'defies Beijing'\", 'Stock market eyes Japan recovery', 'Iraqi voters turn to economic issues', \"EU 'too slow' on economic reforms\", 'China continues breakneck growth', \"Japan's ageing workforce: built to last\", \"GE sees 'excellent' world economy\", \"UK economy facing 'major risks'\", 'Bank holds interest rate at 4.75%', 'Tobacco giants hail court ruling', 'Steady job growth continues in US', 'Glazer makes new Man Utd approach', 'Wall Street cheers Bush victory', 'Business confidence dips in Japan', \"Millions 'to lose textile jobs'\", 'Dutch bank to lay off 2,850 staff', \"Fannie Mae 'should restate books'\", 'US to rule on Yukos refuge call', 'J&J agrees $25bn Guidant deal', 'Libya takes $1bn in unfrozen funds', 'Cactus diet deal for Phytopharm', 'Brazil plays down Varig rescue', 'Bombardier chief to leave company', 'Brazil approves bankruptcy reform', 'Retail sales show festive fervour', 'Cairn shares slump on oil setback', 'French boss to leave EADS', 'AstraZeneca hit by drug failure', 'Strong quarterly growth for Nike', 'Stormy year for property insurers', 'Parmalat sues 45 banks over crash', 'Irish company hit by Iraqi report', 'Yukos unit fetches $9bn at auction', 'S&N extends Indian beer venture', \"Euronext 'poised to make LSE bid'\", 'Christmas shoppers flock to tills', 'Mystery surrounds new Yukos owner', 'Euronext joins bid battle for LSE', 'Iraq and Afghanistan in WTO talks', 'Diageo to buy US wine firm', \"Tokyo says deflation 'controlled'\", 'No seasonal lift for house market', 'Yukos seeks court action on sale', 'Indy buys into India paper', 'Senior Fannie Mae bosses resign', 'Cannabis hopes for drug firm', \"Bush to get 'tough' on deficit\", 'House prices drop as sales slow', 'Fresh hope after Argentine crisis', 'Disney settles disclosure charges', 'Putin backs state grab for Yukos', 'Troubled Marsh under SEC scrutiny', 'US firm pulls out of Iraq', 'Boeing secures giant Japan order', 'Banker loses sexism claim', 'Building giant in asbestos payout', 'Police detain Chinese milk bosses', \"India's Deccan seals $1.8bn deal\", 'Venezuela and China sign oil deal', 'Jarvis sells Tube stake to Spain', 'Honda wins China copyright ruling', 'Air Jamaica back in state control', 'Battered dollar hits another low', \"Quake's economic costs emerging\", \"Disaster claims 'less than $10bn'\", 'India-Pakistan peace boosts trade', 'US to probe airline travel chaos', 'S Korean lender faces liquidation', 'Dollar hits new low versus euro', 'Mild winter drives US oil down 6%', 'Share boost for feud-hit Reliance', 'Giant waves damage S Asia economy', 'Asia shares defy post-quake gloom', 'Israeli economy picking up pace', 'S Korea spending boost to economy', 'Soros group warns of Kazakh close', 'Deutsche attacks Yukos case', 'GM in crunch talks on Fiat future', 'Record year for Chilean copper', 'US consumer confidence up', 'Cash gives way to flexible friend', 'Go-ahead for Balkan oil pipeline', 'Durex maker SSL awaits firm bid', 'Nasdaq planning $100m-share sale', 'WMC says Xstrata bid is too low', 'Takeover offer for Sunderland FC', 'Warning over US pensions deficit', 'Beer giant swallows Russian firm', 'US manufacturing expands', 'Singapore growth at 8.1% in 2004', 'Madagascar completes currency switch', 'Quiksilver moves for Rossignol', 'Dollar hovers around record lows', 'S Korean credit card firm rescued', 'Dollar slides ahead of New Year', 'VW considers opening Indian plant', 'Ukraine strikes Turkmen gas deal', 'Reliance unit loses Anil Ambani', 'India opens skies to competition', 'Oil rebounds from weather effect', 'Ban on forced retirement under 65', 'Fed warns of more US rate rises', 'Weak end-of-year sales hit Next', 'Tate & Lyle boss bags top award', 'Krispy Kreme shares hit', 'Germany nears 1990 jobless level', \"Venezuela identifies 'idle' farms\", 'Egypt to sell off state-owned bank', 'Wal-Mart to pay $14m in gun suit', 'Yukos heading back to US courts', \"Deutsche Boerse set to 'woo' LSE\", 'Laura Ashley chief stepping down', 'US Airways staff agree to pay cut', 'Delta cuts fares in survival plan', \"Profits jump at China's top bank\", 'Green reports shun supply chain', 'Tsunami to cost Sri Lanka $1.3bn', 'Indian oil firm eyes Yukos assets', 'Monsanto fined $1.5m for bribery', 'Marsh executive in guilty plea', 'US interest rate rise expected', \"WorldCom bosses' $54m payout\", \"Continental 'may run out of cash'\", 'House prices rebound says Halifax', 'Mixed Christmas for US retailers', \"India's Deccan gets more planes\", 'South African car demand surges', 'UK bank seals South Korean deal', \"DaimlerChrysler's 2004 sales rise\", 'Tsunami cost hits Jakarta shares', 'Iran budget seeks state sell-offs', 'EC calls truce in deficit battle', 'Enron bosses in $168m payout', 'UK house prices dip in November', 'Steady job growth continues in US', 'Barclays shares up on merger talk', \"US firm 'bids for Lacroix label'\", '$1m payoff for former Shell boss', 'India and Iran in gas export deal', \"LSE 'sets date for takeover deal'\", 'News Corp makes $5.4bn Fox offer', 'Israel looks to US for bank chief', 'EU-US seeking deal on air dispute', 'Nortel in $300m profit revision', 'Minister hits out at Yukos sale', 'Chinese exports rise 25% in 2004', 'Karachi stocks hit historic high', 'US trade gap ballooned in October', 'US prepares for hybrid onslaught', 'Mitsubishi in Peugeot link talks', 'BA to suspend two Saudi services', 'Cairn Energy in Indian gas find', 'Asia quake increases poverty risk', 'Fosters buys stake in winemaker', 'ECB holds rates amid growth fears', 'China bans new tobacco factories', 'UK interest rates held at 4.75%', 'German economy rebounds', 'US trade deficit widens sharply', 'Trade gap narrows as exports rise', 'Lesotho textile workers lose jobs', 'Kraft cuts snack ads for children', 'Khodorkovsky quits Yukos shares', 'Executive trio leave Aer Lingus', 'US in EU tariff chaos trade row', 'News Corp eyes video games market', 'US Ahold suppliers face charges', 'Wal-Mart fights back at accusers', 'US retail sales surge in December', \"Winemaker rejects Foster's offer\", \"McDonald's boss Bell dies aged 44\", 'US industrial output growth eases', \"LSE doubts boost bidders' shares\", 'Qantas considers offshore option', \"Gazprom 'in $36m back-tax claim'\", 'Germany calls for EU reform', 'Parmalat founder offers apology', \"'Golden economic period' to end\", 'Jobs go at Oracle after takeover', 'Beijingers fume over parking fees', 'GM issues 2005 profits warning', 'US economy still growing says Fed', \"Wall Street cool to eBay's profit\", 'WorldCom trial starts in New York', 'High fuel costs hit US airlines', \"European losses hit GM's profits\", \"EU to probe Alitalia 'state aid'\", 'IMF agrees fresh Turkey funding', 'Saudi investor picks up the Savoy', \"Tsunami slows Sri Lanka's growth\", 'China suspends 26 power projects', 'Two Nigerian banks set to merge', 'Virgin Blue shares plummet 20%', 'Watchdog probes Vivendi bond sale', \"Saudi NCCI's shares soar\", 'JP Morgan admits US slavery links', 'Egypt and Israel seal trade deal', 'Ford gains from finance not cars', 'Wipro beats forecasts once again', 'Christmas sales worst since 1981', 'Businesses fail to plan for HIV', 'Ailing EuroDisney vows turnaround', 'UK young top Euro earnings league', 'Swiss cement firm in buying spree', \"India's Reliance family feud heats up\", 'World leaders gather to face uncertainty', 'US budget deficit to reach $368bn', 'Criminal probe on Citigroup deals', 'Brazil jobless rate hits new low', \"Indonesia 'declines debt freeze'\", 'Parmalat bank barred from suing', 'China continues rapid growth', 'SEC to rethink post-Enron rules', 'BBC poll indicates economic gloom', 'Europe asks Asia for euro help', 'FBI agent colludes with analyst', 'Millions go missing at China bank', 'China Aviation seeks rescue deal', 'Low-cost airlines hit Eurotunnel', 'Water firm Suez in Argentina row', 'Algeria hit by further gas riots', \"India's Maruti sees profits jump\", 'Aids and climate top Davos agenda', 'China now top trader with Japan', \"Trial begins of Spain's top banker\", 'UK economy ends year with spurt', 'HealthSouth ex-boss goes on trial', 'Euro firms miss out on optimism', 'Lacroix label bought by US firm']\n"
     ]
    }
   ],
   "source": [
    "print (loaded_heads)"
   ]
  },
  {
   "cell_type": "code",
   "execution_count": null,
   "metadata": {},
   "outputs": [],
   "source": []
  }
 ],
 "metadata": {
  "kernelspec": {
   "display_name": "Python 3",
   "language": "python",
   "name": "python3"
  },
  "language_info": {
   "codemirror_mode": {
    "name": "ipython",
    "version": 3
   },
   "file_extension": ".py",
   "mimetype": "text/x-python",
   "name": "python",
   "nbconvert_exporter": "python",
   "pygments_lexer": "ipython3",
   "version": "3.6.4"
  }
 },
 "nbformat": 4,
 "nbformat_minor": 2
}
