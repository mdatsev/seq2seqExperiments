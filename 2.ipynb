{
 "cells": [
  {
   "cell_type": "code",
   "execution_count": 1,
   "metadata": {},
   "outputs": [
    {
     "name": "stdout",
     "output_type": "stream",
     "text": [
      "b'Hello, TensorFlow!'\n"
     ]
    }
   ],
   "source": [
    "import tensorflow as tf\n",
    "hello = tf.constant('Hello, TensorFlow!')\n",
    "sess = tf.Session()\n",
    "print(sess.run(hello))"
   ]
  },
  {
   "cell_type": "code",
   "execution_count": 43,
   "metadata": {},
   "outputs": [],
   "source": [
    "import re, gensim"
   ]
  },
  {
   "cell_type": "code",
   "execution_count": 212,
   "metadata": {},
   "outputs": [],
   "source": [
    "model = gensim.models.Word2Vec(my_list, min_count=5)"
   ]
  },
  {
   "cell_type": "code",
   "execution_count": 90,
   "metadata": {},
   "outputs": [],
   "source": [
    "model.save('models/word2vec')"
   ]
  },
  {
   "cell_type": "code",
   "execution_count": 230,
   "metadata": {},
   "outputs": [],
   "source": [
    "sentences = gensim.models.word2vec.Text8Corpus('text8')\n",
    "model = gensim.models.Word2Vec(sentences, min_count=5)"
   ]
  },
  {
   "cell_type": "code",
   "execution_count": 234,
   "metadata": {},
   "outputs": [
    {
     "data": {
      "text/plain": [
       "0.7483067689901709"
      ]
     },
     "execution_count": 234,
     "metadata": {},
     "output_type": "execute_result"
    }
   ],
   "source": [
    "model.wv.similarity('woman', 'man')"
   ]
  },
  {
   "cell_type": "code",
   "execution_count": 243,
   "metadata": {},
   "outputs": [
    {
     "data": {
      "text/plain": [
       "[('cat', 0.7617534399032593),\n",
       " ('ass', 0.6806043982505798),\n",
       " ('hound', 0.674519956111908),\n",
       " ('cow', 0.6726925373077393),\n",
       " ('hamster', 0.6519527435302734),\n",
       " ('greyhound', 0.6506344079971313),\n",
       " ('mare', 0.6479132771492004),\n",
       " ('shit', 0.6196315288543701),\n",
       " ('pie', 0.6185514330863953),\n",
       " ('pig', 0.6147049069404602)]"
      ]
     },
     "execution_count": 243,
     "metadata": {},
     "output_type": "execute_result"
    }
   ],
   "source": [
    "model.wv.most_similar(positive=['dog', 'meow'], negative=['woof'])"
   ]
  },
  {
   "cell_type": "code",
   "execution_count": 248,
   "metadata": {},
   "outputs": [
    {
     "data": {
      "text/plain": [
       "[('mother', 0.7925170063972473),\n",
       " ('wife', 0.7567751407623291),\n",
       " ('grandmother', 0.7398916482925415),\n",
       " ('brother', 0.7174731492996216),\n",
       " ('grandfather', 0.7145644426345825),\n",
       " ('son', 0.704890787601471),\n",
       " ('daughter', 0.7011891007423401),\n",
       " ('servant', 0.7007831335067749),\n",
       " ('lover', 0.6974107027053833),\n",
       " ('mistress', 0.6965256929397583)]"
      ]
     },
     "execution_count": 248,
     "metadata": {},
     "output_type": "execute_result"
    }
   ],
   "source": [
    "model.wv.most_similar(['girl', 'father'], ['boy'])"
   ]
  },
  {
   "cell_type": "code",
   "execution_count": 249,
   "metadata": {},
   "outputs": [
    {
     "data": {
      "text/plain": [
       "[('car', 0.5955508947372437),\n",
       " ('segment', 0.5235937237739563),\n",
       " ('polygon', 0.5166100263595581),\n",
       " ('intersection', 0.5063464045524597),\n",
       " ('vertex', 0.5034728050231934),\n",
       " ('loop', 0.49196380376815796),\n",
       " ('inside', 0.4915671944618225),\n",
       " ('counterclockwise', 0.48540937900543213),\n",
       " ('straight', 0.4840587377548218),\n",
       " ('curve', 0.4838608503341675)]"
      ]
     },
     "execution_count": 249,
     "metadata": {},
     "output_type": "execute_result"
    }
   ],
   "source": [
    "model.wv.most_similar(['driver', 'plane'], ['pilot'])"
   ]
  },
  {
   "cell_type": "code",
   "execution_count": 238,
   "metadata": {},
   "outputs": [
    {
     "data": {
      "text/plain": [
       "'car'"
      ]
     },
     "execution_count": 238,
     "metadata": {},
     "output_type": "execute_result"
    }
   ],
   "source": [
    " model.wv.doesnt_match(\"car pizza spaghetti cereal\".split())"
   ]
  },
  {
   "cell_type": "code",
   "execution_count": 250,
   "metadata": {},
   "outputs": [
    {
     "data": {
      "text/plain": [
       "[('dog', 0.8466291427612305),\n",
       " ('bee', 0.7798416614532471),\n",
       " ('hamster', 0.7756460905075073),\n",
       " ('ass', 0.7626714110374451),\n",
       " ('bird', 0.7606139779090881),\n",
       " ('panda', 0.7591149210929871),\n",
       " ('pig', 0.7480182647705078),\n",
       " ('goat', 0.7479194402694702),\n",
       " ('llama', 0.7458317279815674),\n",
       " ('flower', 0.7430784106254578)]"
      ]
     },
     "execution_count": 250,
     "metadata": {},
     "output_type": "execute_result"
    }
   ],
   "source": [
    "model.wv.most_similar('cat')"
   ]
  },
  {
   "cell_type": "code",
   "execution_count": 255,
   "metadata": {},
   "outputs": [
    {
     "data": {
      "text/plain": [
       "[('blue', 0.8159369230270386),\n",
       " ('yellow', 0.7480628490447998),\n",
       " ('black', 0.7298018932342529),\n",
       " ('white', 0.7183542847633362),\n",
       " ('green', 0.7135512232780457),\n",
       " ('purple', 0.677684485912323),\n",
       " ('stockings', 0.6570394039154053),\n",
       " ('stripes', 0.6426817178726196),\n",
       " ('collar', 0.6296571493148804),\n",
       " ('orange', 0.6221187710762024)]"
      ]
     },
     "execution_count": 255,
     "metadata": {},
     "output_type": "execute_result"
    }
   ],
   "source": [
    "model.wv.most_similar('red')"
   ]
  },
  {
   "cell_type": "code",
   "execution_count": 256,
   "metadata": {},
   "outputs": [
    {
     "data": {
      "text/plain": [
       "[('mountains', 0.8246376514434814),\n",
       " ('hills', 0.7879804372787476),\n",
       " ('cliffs', 0.7841901183128357),\n",
       " ('rocky', 0.7815821170806885),\n",
       " ('glacier', 0.7488150000572205),\n",
       " ('foothills', 0.7469481825828552),\n",
       " ('reef', 0.736595869064331),\n",
       " ('appalachian', 0.7363884449005127),\n",
       " ('desert', 0.727149248123169),\n",
       " ('ridge', 0.7263320684432983)]"
      ]
     },
     "execution_count": 256,
     "metadata": {},
     "output_type": "execute_result"
    }
   ],
   "source": [
    "model.wv.most_similar('mountain')"
   ]
  },
  {
   "cell_type": "code",
   "execution_count": 244,
   "metadata": {},
   "outputs": [],
   "source": [
    "model.save('models/word2vec')"
   ]
  },
  {
   "cell_type": "code",
   "execution_count": null,
   "metadata": {},
   "outputs": [],
   "source": []
  }
 ],
 "metadata": {
  "kernelspec": {
   "display_name": "Python 3",
   "language": "python",
   "name": "python3"
  },
  "language_info": {
   "codemirror_mode": {
    "name": "ipython",
    "version": 3
   },
   "file_extension": ".py",
   "mimetype": "text/x-python",
   "name": "python",
   "nbconvert_exporter": "python",
   "pygments_lexer": "ipython3",
   "version": "3.5.5"
  }
 },
 "nbformat": 4,
 "nbformat_minor": 2
}
