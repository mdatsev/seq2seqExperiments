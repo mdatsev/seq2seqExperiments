{
 "cells": [
  {
   "cell_type": "code",
   "execution_count": 1,
   "metadata": {},
   "outputs": [
    {
     "name": "stdout",
     "output_type": "stream",
     "text": [
      "b'Hello, TensorFlow!'\n"
     ]
    }
   ],
   "source": [
    "import tensorflow as tf\n",
    "hello = tf.constant('Hello, TensorFlow!')\n",
    "sess = tf.Session()\n",
    "print(sess.run(hello))"
   ]
  },
  {
   "cell_type": "code",
   "execution_count": 42,
   "metadata": {},
   "outputs": [],
   "source": [
    "file = open(\"004.txt\", \"r\")"
   ]
  },
  {
   "cell_type": "code",
   "execution_count": 43,
   "metadata": {},
   "outputs": [],
   "source": [
    "import re"
   ]
  },
  {
   "cell_type": "code",
   "execution_count": 44,
   "metadata": {},
   "outputs": [],
   "source": [
    "my_list = []\n",
    "for line in file:\n",
    "    sentences = re.split(r'[\\.]', line)\n",
    "    for sentence in sentences:\n",
    "        words = re.findall(r\"[\\w']+\", sentence)\n",
    "        if len(words)!=0:\n",
    "            my_list.append(words)\n",
    "        "
   ]
  },
  {
   "cell_type": "code",
   "execution_count": 41,
   "metadata": {},
   "outputs": [],
   "source": [
    "import gensim, logging"
   ]
  },
  {
   "cell_type": "code",
   "execution_count": 45,
   "metadata": {},
   "outputs": [],
   "source": [
    "model = gensim.models.Word2Vec(my_list, min_count=1)"
   ]
  },
  {
   "cell_type": "code",
   "execution_count": 46,
   "metadata": {},
   "outputs": [],
   "source": [
    "model.save('models/word2vec')"
   ]
  },
  {
   "cell_type": "code",
   "execution_count": 47,
   "metadata": {},
   "outputs": [],
   "source": [
    "import wikipedia"
   ]
  },
  {
   "cell_type": "code",
   "execution_count": 48,
   "metadata": {},
   "outputs": [],
   "source": [
    "import nltk"
   ]
  },
  {
   "cell_type": "code",
   "execution_count": 5,
   "metadata": {},
   "outputs": [
    {
     "name": "stdout",
     "output_type": "stream",
     "text": [
      "[nltk_data] Downloading package punkt to\n",
      "[nltk_data]     C:\\Users\\Vanko\\AppData\\Roaming\\nltk_data...\n",
      "[nltk_data]   Unzipping tokenizers\\punkt.zip.\n"
     ]
    },
    {
     "data": {
      "text/plain": [
       "True"
      ]
     },
     "execution_count": 5,
     "metadata": {},
     "output_type": "execute_result"
    }
   ],
   "source": [
    "nltk.download('punkt')"
   ]
  },
  {
   "cell_type": "code",
   "execution_count": 6,
   "metadata": {},
   "outputs": [],
   "source": [
    "from wiki_utils import *"
   ]
  },
  {
   "cell_type": "code",
   "execution_count": 7,
   "metadata": {},
   "outputs": [],
   "source": [
    "new_words = wiki_extract(wikipedia.page(\"Queen_regnant\"))"
   ]
  },
  {
   "cell_type": "code",
   "execution_count": 8,
   "metadata": {},
   "outputs": [
    {
     "name": "stdout",
     "output_type": "stream",
     "text": [
      "[['A', 'queen', 'regnant', 'plural', 'queens', 'regnant', 'is', 'a', 'female', 'monarch', 'equivalent', 'in', 'rank', 'to', 'a', 'king', 'who', 'reigns', 'in', 'her', 'own', 'right', 'in', 'contrast', 'to', 'a', 'queen', 'consort', 'who', 'is', 'the', 'wife', 'of', 'a', 'reigning', 'king', 'or', 'a', 'queen', 'regent', 'who', 'is', 'the', 'guardian', 'of', 'a', 'child', 'monarch', 'reigning', 'temporarily', 'in', 'their', 'stead'], ['An', 'empress', 'regnant', 'is', 'a', 'female', 'monarch', 'who', 'reigns', 'in', 'her', 'own', 'right', 'over', 'an', 'empire'], ['A', 'queen', 'regnant', 'possesses', 'and', 'exercises', 'sovereign', 'powers'], ['A', 'queen', 'consort', 'shares', 'her', 'husband', \"'s\", 'rank', 'and', 'titles', 'but', 'does', 'not', 'share', 'the', 'sovereignty', 'of', 'her', 'husband'], ['The', 'husband', 'of', 'a', 'queen', 'regnant', 'traditionally', 'does', 'not', 'share', 'his', 'wife', \"'s\", 'rank', 'title', 'or', 'sovereignty'], ['However', 'the', 'concept', 'of', 'a', 'king', 'consort', 'is', 'not', 'unheard', 'of', 'in', 'both', 'contemporary', 'and', 'classical', 'periods'], ['A', 'queen', 'dowager', 'is', 'the', 'widow', 'of', 'a', 'king'], ['A', 'queen', 'mother', 'is', 'a', 'queen', 'dowager', 'who', 'is', 'also', 'the', 'mother', 'of', 'a', 'reigning', 'sovereign'], ['In', 'Ancient', 'Egypt', 'Ancient', 'Persia', 'Asian', 'and', 'Pacific', 'cultures', 'and', 'even', 'some', 'European', 'countries', 'female', 'monarchs', 'have', 'been', 'given', 'the', 'title', 'king', 'or', 'its', 'equivalent', 'such', 'as', 'pharaoh', 'when', 'gender', 'is', 'irrelevant', 'to', 'the', 'office', 'or', 'else', 'have', 'used', 'the', 'masculine', 'form', 'of', 'the', 'word', 'in', 'languages', 'where', 'gender', 'is', 'needed'], ['The', 'Byzantine', 'Empress', 'Irene', 'sometimes', 'called', 'herself', 'basileus', 'βασιλεύς', \"'emperor\", 'rather', 'than', 'basilissa', 'βασίλισσα', \"'empress\", 'and', 'Jadwiga', 'of', 'Poland', 'was', 'crowned', 'as', 'Rex', 'Poloniae', 'King', 'of', 'Poland'], ['Among', 'the', 'Davidic', 'Monarchs', 'of', 'the', 'Kingdom', 'of', 'Judah', 'there', 'is', 'mentioned', 'a', 'single', 'queen', 'regnant', 'Athaliah', 'though', 'the', 'Hebrew', 'Bible', 'regards', 'her', 'negatively', 'as', 'a', 'usurper'], ['The', 'much', 'later', 'Hasmonean', 'Queen', 'Salome', 'Alexandra', 'Shlom', 'Tzion', 'was', 'highly', 'popular'], ['Accession', 'of', 'a', 'queen', 'regnant', 'occurs', 'as', 'a', 'nation', \"'s\", 'order', 'of', 'succession', 'permits'], ['Methods', 'of', 'succession', 'to', 'queendoms', 'kingdoms', 'tribal', 'chiefships', 'and', 'such', 'include', 'nomination', 'the', 'reigning', 'monarch', 'or', 'a', 'council', 'names', 'an', 'heir', 'primogeniture', 'in', 'which', 'the', 'children', 'of', 'a', 'monarch', 'or', 'chief', 'have', 'preference', 'in', 'order', 'of', 'birth', 'from', 'eldest', 'to', 'youngest', 'and', 'ultimogeniture', 'in', 'which', 'the', 'children', 'have', 'preference', 'in', 'the', 'reverse', 'order', 'of', 'birth', 'from', 'youngest', 'to', 'eldest'], ['The', 'scope', 'of', 'succession', 'may', 'be', 'matrilineal', 'patrilineal', 'or', 'both', 'or', 'rarely', 'open', 'to', 'general', 'election', 'when', 'necessary'], ['The', 'right', 'of', 'succession', 'may', 'be', 'open', 'to', 'men', 'and', 'women', 'or', 'limited', 'to', 'men', 'only', 'or', 'to', 'women', 'only'], ['The', 'most', 'typical', 'succession', 'in', 'European', 'monarchies', 'from', 'the', 'Late', 'Middle', 'Ages', 'until', 'the', 'late', '20th', 'century', 'was', 'male-preference', 'primogeniture', 'the', 'order', 'of', 'succession', 'ranked', 'the', 'sons', 'of', 'the', 'monarch', 'in', 'order', 'of', 'their', 'birth', 'followed', 'by', 'the', 'daughters'], ['Historically', 'many', 'realms', 'forbade', 'succession', 'by', 'women', 'or', 'through', 'a', 'female', 'line', 'in', 'accordance', 'with', 'the', 'Salic', 'law', 'and', 'some', 'still', 'do'], ['No', 'queen', 'regnant', 'ever', 'ruled', 'France', 'for', 'example'], ['Only', 'one', 'woman', 'Maria', 'Theresa', 'ruled', 'Austria'], ['As', 'noted', 'in', 'the', 'list', 'below', 'of', 'widely-known', 'ruling', 'queens', 'many', 'reigned', 'in', 'European', 'monarchies'], ['In', 'the', 'late', '20th', 'and', 'early', '21st', 'centuries', 'Sweden', 'Norway', 'Belgium', 'the', 'Netherlands', 'Denmark', 'Luxembourg', 'and', 'the', 'UK', 'amended', 'their', 'laws', 'of', 'succession', 'to', 'absolute', 'primogeniture'], ['In', 'some', 'cases', 'the', 'change', 'does', 'not', 'take', 'effect', 'during', 'the', 'lifetimes', 'of', 'people', 'already', 'in', 'the', 'line', 'of', 'succession', 'at', 'the', 'time', 'the', 'law', 'was', 'passed'], ['In', '2011', 'the', 'United', 'Kingdom', 'and', '15', 'other', 'Commonwealth', 'realms', 'agreed', 'to', 'remove', 'the', 'rule', 'of', 'male-preference', 'primogeniture'], ['Once', 'the', 'necessary', 'legislation', 'was', 'passed', 'this', 'means', 'that', 'had', 'Prince', 'William', 'had', 'a', 'daughter', 'first', 'a', 'younger', 'son', 'would', 'not', 'become', 'heir', 'apparent'], ['In', '2015', 'Elizabeth', 'II', 'became', 'the', 'longest-reigning', 'queen', 'regnant', 'and', 'female', 'head', 'of', 'state', 'in', 'world', 'history'], ['In', '2016', 'she', 'became', 'the', 'longest', 'currently', 'serving', 'head', 'of', 'state', 'and', 'longest', 'currently', 'reigning', 'monarch'], ['In', 'China', 'Wu', 'Zetian', 'became', 'the', 'Chinese', 'empress', 'regnant', 'and', 'established', 'the', 'Zhou', 'Dynasty', 'after', 'dismissing', 'her', 'sons'], ['The', 'Empress', 'Wu', 'used', 'the', 'title', 'huangdi', '皇帝', 'emperor', 'and', 'in', 'many', 'European', 'sources', 'as', 'a', 'female', 'emperor', 'rather', 'than', 'an', 'empress', 'regnant'], ['Similarly', 'a', 'few', 'decades', 'earlier', 'in', 'Korea', 'Queen', 'Seondeok', 'of', 'Silla', 'and', 'Jindeok', 'of', 'Silla', 'developed', 'the', 'term', 'yeowang', '여왕', 'female', 'king', 'to', 'refer', 'to', 'themselves', 'instead', 'of', 'the', 'term', 'wangbi', '왕비', 'which', 'is', 'usually', 'translated', 'as', 'queen', 'consort', 'and', 'refers', 'to', 'the', 'wife', 'of', 'a', 'king', 'or', 'emperor'], ['Although', 'the', 'Chrysanthemum', 'Throne', 'of', 'Japan', 'is', 'currently', 'barred', 'to', 'women', 'this', 'has', 'not', 'always', 'been', 'the', 'case', 'throughout', 'Japanese', 'history', 'there', 'have', 'been', 'eight', 'empresses', 'regnant'], ['Again', 'the', 'Japanese', 'language', 'uses', 'the', 'term', 'josei', 'tennō', '女性天皇', 'female', 'imperial', 'ruler', 'for', 'the', 'position', 'which', 'would', 'be', 'empress', 'regnant', 'in', 'English', 'with', 'kōgō', '皇后', 'being', 'the', 'term', 'reserved', 'for', 'an', 'empress', 'consort']]\n"
     ]
    }
   ],
   "source": [
    "print(new_words)"
   ]
  },
  {
   "cell_type": "code",
   "execution_count": null,
   "metadata": {},
   "outputs": [],
   "source": []
  }
 ],
 "metadata": {
  "kernelspec": {
   "display_name": "Python 3",
   "language": "python",
   "name": "python3"
  },
  "language_info": {
   "codemirror_mode": {
    "name": "ipython",
    "version": 3
   },
   "file_extension": ".py",
   "mimetype": "text/x-python",
   "name": "python",
   "nbconvert_exporter": "python",
   "pygments_lexer": "ipython3",
   "version": "3.5.5"
  }
 },
 "nbformat": 4,
 "nbformat_minor": 2
}
