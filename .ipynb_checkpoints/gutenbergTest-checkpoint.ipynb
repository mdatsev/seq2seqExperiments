{
 "cells": [
  {
   "cell_type": "code",
   "execution_count": null,
   "metadata": {
    "collapsed": true
   },
   "outputs": [],
   "source": [
    "# Take books from www.gutenberg.org website for ebooks\n",
    "\n",
    "try:\n",
    "    from urllib.request import urlopen\n",
    "except ImportError:\n",
    "    from urllib2 import urlopen\n",
    "\n",
    "for i in range(1, 111111):\n",
    "    try:\n",
    "        html = urlopen(\"http://www.gutenberg.org/cache/epub/%d/pg%d.txt\" % (i, i))\n",
    "        data = html.read().decode(\"utf-8\")\n",
    "        print (data)\n",
    "        print ('-----------------------------------------------------------')\n",
    "except urllib.error.HTTPError:\n",
    "        pass"
   ]
  },
  {
   "cell_type": "code",
   "execution_count": null,
   "metadata": {
    "collapsed": true
   },
   "outputs": [],
   "source": [
    "import asyncio\n",
    "import aiohttp\n",
    "async def some_function(i):\n",
    "    async with aiohttp.ClientSession() as session:\n",
    "        async with session.get(\"http://www.gutenberg.org/cache/epub/%d/pg%d.txt\" % (i, i)) as resp:\n",
    "            print(resp.status)\n",
    "            print(await resp.text())\n",
    "            \n",
    "loop = asyncio.get_event_loop()\n",
    "tasks = []\n",
    "for i in range(1, 1000):\n",
    "    tasks.append(loop.create_task(some_function(i)))\n",
    "loop.run_until_complete(asyncio.wait(tasks))"
   ]
  }
 ],
 "metadata": {
  "anaconda-cloud": {},
  "kernelspec": {
   "display_name": "Python [default]",
   "language": "python",
   "name": "python3"
  },
  "language_info": {
   "codemirror_mode": {
    "name": "ipython",
    "version": 3
   },
   "file_extension": ".py",
   "mimetype": "text/x-python",
   "name": "python",
   "nbconvert_exporter": "python",
   "pygments_lexer": "ipython3",
   "version": "3.5.2"
  }
 },
 "nbformat": 4,
 "nbformat_minor": 2
}
