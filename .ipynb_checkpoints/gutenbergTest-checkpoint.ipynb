{
 "cells": [
  {
   "cell_type": "code",
   "execution_count": null,
   "metadata": {},
   "outputs": [],
   "source": [
    "# Take books from www.gutenberg.org website for ebooks\n",
    "\n",
    "try:\n",
    "    from urllib.request import urlopen\n",
    "except ImportError:\n",
    "    from urllib2 import urlopen\n",
    "\n",
    "for i in range(1, 111111):\n",
    "    try:\n",
    "        html = urlopen(\"http://www.gutenberg.org/cache/epub/%d/pg%d.txt\" % (i, i))\n",
    "        data = html.read().decode(\"utf-8\")\n",
    "        print (data)\n",
    "        print ('-----------------------------------------------------------')\n",
    "except urllib.error.HTTPError:\n",
    "        pass"
   ]
  },
  {
   "cell_type": "code",
   "execution_count": null,
   "metadata": {},
   "outputs": [],
   "source": [
    "import asyncio\n",
    "import aiohttp\n",
    "async def some_function():\n",
    "    async with aiohttp.ClientSession() as session:\n",
    "        for i in range(1, 2):\n",
    "            async with session.get(\"http://www.gutenberg.org/cache/epub/%d/pg%d.txt\" % (i, i)) as resp:\n",
    "                print(resp.status)\n",
    "                print(await resp.text())\n",
    "            \n",
    "loop = asyncio.get_event_loop()\n",
    "loop.run_until_complete(some_function())"
   ]
  }
 ],
 "metadata": {
  "kernelspec": {
   "display_name": "Python 3",
   "language": "python",
   "name": "python3"
  },
  "language_info": {
   "codemirror_mode": {
    "name": "ipython",
    "version": 3
   },
   "file_extension": ".py",
   "mimetype": "text/x-python",
   "name": "python",
   "nbconvert_exporter": "python",
   "pygments_lexer": "ipython3",
   "version": "3.6.4"
  }
 },
 "nbformat": 4,
 "nbformat_minor": 2
}
