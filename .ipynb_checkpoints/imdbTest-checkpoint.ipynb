{
 "cells": [
  {
   "cell_type": "code",
   "execution_count": null,
   "metadata": {},
   "outputs": [],
   "source": [
    "from imdbpie import Imdb\n",
    "import json\n",
    "\n",
    "imdb = Imdb()\n",
    "imdb.get_popular_titles()\n",
    "#all_movies = imdb.get_popular_titles()\n",
    "#parsed_json = json.loads(all_movies)\n",
    "\n",
    "#first_parsed = json.load(parsed_json['ranks'][0])\n",
    "#print(first_parsed['currentRank'])\n",
    "#for i in range(0, 100):"
   ]
  },
  {
   "cell_type": "code",
   "execution_count": null,
   "metadata": {},
   "outputs": [],
   "source": [
    "from imdbpie import Imdb\n",
    "\n",
    "imdb = Imdb()\n",
    "all_movies = imdb.get_popular_titles()['ranks']\n",
    "\n",
    "for i in range(0, len(all_movies)):\n",
    "    print(imdb.get_title_plot_synopsis(all_movies[i]['id'].split(\"/\")[2])['plotSynopses'][0]['text'])\n",
    "    print ('-----------------------------------------------------------')"
   ]
  },
  {
   "cell_type": "code",
   "execution_count": 5,
   "metadata": {
    "scrolled": true
   },
   "outputs": [],
   "source": [
    "from imdbpie import Imdb\n",
    "\n",
    "imdb = Imdb()\n",
    "\n",
    "for i in range(1, 1111111):\n",
    "    try:\n",
    "        curr_movie = imdb.get_title_plot_synopsis('tt' + str(i).zfill(7))\n",
    "        if 'plotSynopses' in curr_movie:\n",
    "            print(curr_movie['plotSynopses'][0]['text'])\n",
    "            print ('-----------------------------------------------------------')\n",
    "    except LookupError:\n",
    "        pass"
   ]
  }
 ],
 "metadata": {
  "kernelspec": {
   "display_name": "Python 3",
   "language": "python",
   "name": "python3"
  },
  "language_info": {
   "codemirror_mode": {
    "name": "ipython",
    "version": 3
   },
   "file_extension": ".py",
   "mimetype": "text/x-python",
   "name": "python",
   "nbconvert_exporter": "python",
   "pygments_lexer": "ipython3",
   "version": "3.6.4"
  }
 },
 "nbformat": 4,
 "nbformat_minor": 2
}
